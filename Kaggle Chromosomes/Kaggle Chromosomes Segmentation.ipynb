{
 "cells": [
  {
   "cell_type": "code",
   "execution_count": 1,
   "metadata": {},
   "outputs": [
    {
     "name": "stderr",
     "output_type": "stream",
     "text": [
      "/home/sara/anaconda3/lib/python3.6/site-packages/h5py/__init__.py:34: FutureWarning: Conversion of the second argument of issubdtype from `float` to `np.floating` is deprecated. In future, it will be treated as `np.float64 == np.dtype(float).type`.\n",
      "  from ._conv import register_converters as _register_converters\n"
     ]
    }
   ],
   "source": [
    "import h5py\n",
    "import numpy as np\n",
    "from matplotlib import pyplot as plt"
   ]
  },
  {
   "cell_type": "code",
   "execution_count": 2,
   "metadata": {
    "collapsed": true
   },
   "outputs": [],
   "source": [
    "#h5f = h5py.File('overlapping_chromosomes_examples.h5','r')\n",
    "h5f = h5py.File('LowRes_13434_overlapping_pairs.h5','r')\n",
    "pairs = h5f['dataset_1'][:] # pairs.shape = (13434, 94, 93, 2)\n",
    "h5f.close()"
   ]
  },
  {
   "cell_type": "code",
   "execution_count": 3,
   "metadata": {},
   "outputs": [
    {
     "data": {
      "text/plain": [
       "(13434, 94, 93, 2)"
      ]
     },
     "execution_count": 3,
     "metadata": {},
     "output_type": "execute_result"
    }
   ],
   "source": [
    "pairs.shape"
   ]
  },
  {
   "cell_type": "code",
   "execution_count": 4,
   "metadata": {},
   "outputs": [
    {
     "data": {
      "text/plain": [
       "<matplotlib.image.AxesImage at 0x7f0e57965dd8>"
      ]
     },
     "execution_count": 4,
     "metadata": {},
     "output_type": "execute_result"
    },
    {
     "data": {
      "image/png": "[encoded data removed]",
      "text/plain": [
       "<matplotlib.figure.Figure at 0x7f0ec9cd1198>"
      ]
     },
     "metadata": {},
     "output_type": "display_data"
    }
   ],
   "source": [
    "%matplotlib inline\n",
    "\n",
    "grey = pairs[220,:,:,0]\n",
    "mask = pairs[220,:,:,1]\n",
    "#%matplotlib inline\n",
    "plt.subplot(121)\n",
    "plt.imshow(grey)\n",
    "plt.title('max='+str(grey.max()))\n",
    "plt.subplot(122)\n",
    "plt.imshow(mask)"
   ]
  },
  {
   "cell_type": "code",
   "execution_count": 18,
   "metadata": {},
   "outputs": [
    {
     "data": {
      "text/plain": [
       "<matplotlib.image.AxesImage at 0x7f0e57751278>"
      ]
     },
     "execution_count": 18,
     "metadata": {},
     "output_type": "execute_result"
    },
    {
     "data": {
      "image/png": "[encoded data removed]",
      "text/plain": [
       "<matplotlib.figure.Figure at 0x7f0e579c6cc0>"
      ]
     },
     "metadata": {},
     "output_type": "display_data"
    }
   ],
   "source": [
    "grey = pairs[13433,:,:,0]\n",
    "mask = pairs[13433,:,:,1]\n",
    "%matplotlib inline\n",
    "\n",
    "\n",
    "plt.subplot(121)\n",
    "plt.imshow(grey,cmap='gray')\n",
    "plt.title('max='+str(grey.max()))\n",
    "plt.subplot(122)\n",
    "plt.imshow(mask,cmap='gray')"
   ]
  },
  {
   "cell_type": "code",
   "execution_count": 6,
   "metadata": {},
   "outputs": [
    {
     "data": {
      "text/plain": [
       "['dataset_1']"
      ]
     },
     "execution_count": 6,
     "metadata": {},
     "output_type": "execute_result"
    }
   ],
   "source": [
    "# Display the keys of the h5f file\n",
    "h5f = h5py.File('LowRes_13434_overlapping_pairs.h5','r')\n",
    "list(h5f.keys())"
   ]
  },
  {
   "cell_type": "code",
   "execution_count": 7,
   "metadata": {
    "collapsed": true
   },
   "outputs": [],
   "source": [
    "def importData(filepath):\n",
    "    '''\n",
    "    Loads the HDF5 file and returns all the data pairs\n",
    "    '''\n",
    "    h5f = h5py.File(filepath,'r')\n",
    "    pairs = h5f['dataset_1'][:]\n",
    "    return pairs\n",
    "\n",
    "def plotImagePair(greyscale, mask):\n",
    "    '''\n",
    "    Plots a pair of images \n",
    "    '''\n",
    "    #%matplotlib inline\n",
    "    plt.subplot(121)\n",
    "    plt.imshow(grey)\n",
    "    plt.title('max='+str(grey.max()))\n",
    "    plt.subplot(122)\n",
    "    plt.imshow(mask)\n",
    "    plt.show()"
   ]
  },
  {
   "cell_type": "code",
   "execution_count": 8,
   "metadata": {},
   "outputs": [
    {
     "data": {
      "text/plain": [
       "(13434, 94, 93, 2)"
      ]
     },
     "execution_count": 8,
     "metadata": {},
     "output_type": "execute_result"
    }
   ],
   "source": [
    "pairs.shape"
   ]
  },
  {
   "cell_type": "code",
   "execution_count": 11,
   "metadata": {},
   "outputs": [],
   "source": [
    "import PIL # pillow needed for scipy.misc's image functions\n",
    "import sys\n",
    "from matplotlib import pyplot as plt # for plotting\n",
    "import utils\n",
    "from PIL import Image\n",
    "import numpy as np\n",
    "import os\n",
    "import importlib"
   ]
  },
  {
   "cell_type": "code",
   "execution_count": 13,
   "metadata": {
    "collapsed": true
   },
   "outputs": [],
   "source": [
    "for i in range(0, pairs.shape[0]):\n",
    "    temp_array = pairs[i, :, :, 0]\n",
    "    min_of_temp_array = temp_array.min()\n",
    "    if min_of_temp_array < 0:\n",
    "        temp_array = temp_array - min_of_temp_array\n",
    "    max_of_temp_array = temp_array.max()\n",
    "    if max_of_temp_array > 255:\n",
    "        temp_array = temp_array*255/float(max_of_temp_array)\n",
    "    temp_Image = Image.fromarray(temp_array.astype('uint8'), mode='L')\n",
    "    temp_Image.save('overlapping-chromosomes_3channel/x_' + str(i) + '.png')#, filepath='')"
   ]
  },
  {
   "cell_type": "code",
   "execution_count": 14,
   "metadata": {},
   "outputs": [
    {
     "data": {
      "image/png": "[encoded data removed]",
      "text/plain": [
       "<PIL.Image.Image image mode=L size=93x94 at 0x7F0E57884EF0>"
      ]
     },
     "execution_count": 14,
     "metadata": {},
     "output_type": "execute_result"
    }
   ],
   "source": [
    "temp_Image"
   ]
  }
 ],
 "metadata": {
  "kernelspec": {
   "display_name": "Python 3",
   "language": "python",
   "name": "python3"
  },
  "language_info": {
   "codemirror_mode": {
    "name": "ipython",
    "version": 3
   },
   "file_extension": ".py",
   "mimetype": "text/x-python",
   "name": "python",
   "nbconvert_exporter": "python",
   "pygments_lexer": "ipython3",
   "version": "3.6.3"
  }
 },
 "nbformat": 4,
 "nbformat_minor": 2
}
