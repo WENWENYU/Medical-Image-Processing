{
 "cells": [
  {
   "cell_type": "code",
   "execution_count": 1,
   "metadata": {},
   "outputs": [
    {
     "name": "stderr",
     "output_type": "stream",
     "text": [
      "/home/sara/anaconda3/lib/python3.6/site-packages/h5py/__init__.py:34: FutureWarning: Conversion of the second argument of issubdtype from `float` to `np.floating` is deprecated. In future, it will be treated as `np.float64 == np.dtype(float).type`.\n",
      "  from ._conv import register_converters as _register_converters\n"
     ]
    }
   ],
   "source": [
    "import h5py\n",
    "import numpy as np\n",
    "import skimage as sk\n",
    "#print sk.__version__\n",
    "from skimage import io\n",
    "from matplotlib import pyplot as plt"
   ]
  },
  {
   "cell_type": "code",
   "execution_count": 2,
   "metadata": {},
   "outputs": [],
   "source": [
    "from skimage import filters\n",
    "from skimage import feature\n",
    "from skimage import io\n",
    "from scipy import ndimage as nd\n",
    "from scipy import misc"
   ]
  },
  {
   "cell_type": "markdown",
   "metadata": {},
   "source": [
    "### Loading the dataset stored in hdf5 format"
   ]
  },
  {
   "cell_type": "code",
   "execution_count": 3,
   "metadata": {},
   "outputs": [],
   "source": [
    "h5f = h5py.File('LowRes_13434_overlapping_pairs.h5','r')\n",
    "pairs = h5f['dataset_1'][:]\n",
    "h5f.close()"
   ]
  },
  {
   "cell_type": "code",
   "execution_count": 4,
   "metadata": {},
   "outputs": [
    {
     "name": "stdout",
     "output_type": "stream",
     "text": [
      "(13434, 94, 93, 2)\n",
      "int64\n",
      "209\n"
     ]
    }
   ],
   "source": [
    "print(pairs.shape)\n",
    "print(pairs[0,:,:,0].dtype)\n",
    "print(pairs[0,:,:,0].max())"
   ]
  },
  {
   "cell_type": "markdown",
   "metadata": {},
   "source": [
    "## Looking at some examples"
   ]
  },
  {
   "cell_type": "code",
   "execution_count": 5,
   "metadata": {},
   "outputs": [
    {
     "data": {
      "text/plain": [
       "<matplotlib.image.AxesImage at 0x7f5ace2d54e0>"
      ]
     },
     "execution_count": 5,
     "metadata": {},
     "output_type": "execute_result"
    },
    {
     "data": {
      "image/png": "[encoded data removed]",
      "text/plain": [
       "<matplotlib.figure.Figure at 0x7f5b3e3ec400>"
      ]
     },
     "metadata": {},
     "output_type": "display_data"
    }
   ],
   "source": [
    "grey = pairs[0,:,:,0]\n",
    "mask = pairs[0,:,:,1]\n",
    "%matplotlib inline\n",
    "plt.figure(figsize = (10,8))\n",
    "plt.subplot(121)\n",
    "plt.imshow(grey)\n",
    "plt.title('max='+str(grey.max()))\n",
    "plt.subplot(122)\n",
    "plt.imshow(mask, interpolation = 'nearest')"
   ]
  },
  {
   "cell_type": "markdown",
   "metadata": {},
   "source": [
    "### Problem in the groundtruth label at low resolution:\n",
    "\n",
    "The labels are a little noisy on the edge of the groundtruth label."
   ]
  },
  {
   "cell_type": "code",
   "execution_count": 6,
   "metadata": {},
   "outputs": [
    {
     "data": {
      "text/plain": [
       "<matplotlib.image.AxesImage at 0x7f5ace1a8748>"
      ]
     },
     "execution_count": 6,
     "metadata": {},
     "output_type": "execute_result"
    },
    {
     "data": {
      "image/png": "[encoded data removed]",
      "text/plain": [
       "<matplotlib.figure.Figure at 0x7f5ace2b93c8>"
      ]
     },
     "metadata": {},
     "output_type": "display_data"
    }
   ],
   "source": [
    "plt.figure(figsize = (10,12))\n",
    "plt.subplot(141)\n",
    "plt.imshow(mask, interpolation = 'nearest')\n",
    "plt.subplot(142)\n",
    "plt.title('label 1')\n",
    "plt.imshow(mask == 1, interpolation = 'nearest')\n",
    "plt.subplot(143)\n",
    "plt.title('label 2')\n",
    "plt.imshow(mask == 2, interpolation = 'nearest')\n",
    "plt.subplot(144)\n",
    "plt.title('label 3')\n",
    "plt.imshow(mask == 3,  interpolation = 'nearest')"
   ]
  },
  {
   "cell_type": "code",
   "execution_count": null,
   "metadata": {
    "collapsed": true
   },
   "outputs": [],
   "source": []
  }
 ],
 "metadata": {
  "kernelspec": {
   "display_name": "Python 3",
   "language": "python",
   "name": "python3"
  },
  "language_info": {
   "codemirror_mode": {
    "name": "ipython",
    "version": 3
   },
   "file_extension": ".py",
   "mimetype": "text/x-python",
   "name": "python",
   "nbconvert_exporter": "python",
   "pygments_lexer": "ipython3",
   "version": "3.6.3"
  }
 },
 "nbformat": 4,
 "nbformat_minor": 1
}
