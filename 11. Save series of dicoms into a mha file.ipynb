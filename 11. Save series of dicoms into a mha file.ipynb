{
 "cells": [
  {
   "cell_type": "code",
   "execution_count": 4,
   "metadata": {},
   "outputs": [],
   "source": [
    "from medpy.io import load\n",
    "from glob import glob"
   ]
  },
  {
   "cell_type": "code",
   "execution_count": 6,
   "metadata": {},
   "outputs": [
    {
     "name": "stdout",
     "output_type": "stream",
     "text": [
      "['data/1.3.6.1.4.1.14519.5.2.1.1706.4001.100169298880243060237139829068/000006.dcm', 'data/1.3.6.1.4.1.14519.5.2.1.1706.4001.100169298880243060237139829068/000002.dcm', 'data/1.3.6.1.4.1.14519.5.2.1.1706.4001.100169298880243060237139829068/000013.dcm', 'data/1.3.6.1.4.1.14519.5.2.1.1706.4001.100169298880243060237139829068/000005.dcm', 'data/1.3.6.1.4.1.14519.5.2.1.1706.4001.100169298880243060237139829068/000000.dcm', 'data/1.3.6.1.4.1.14519.5.2.1.1706.4001.100169298880243060237139829068/000007.dcm', 'data/1.3.6.1.4.1.14519.5.2.1.1706.4001.100169298880243060237139829068/000009.dcm', 'data/1.3.6.1.4.1.14519.5.2.1.1706.4001.100169298880243060237139829068/000011.dcm', 'data/1.3.6.1.4.1.14519.5.2.1.1706.4001.100169298880243060237139829068/000004.dcm', 'data/1.3.6.1.4.1.14519.5.2.1.1706.4001.100169298880243060237139829068/000008.dcm', 'data/1.3.6.1.4.1.14519.5.2.1.1706.4001.100169298880243060237139829068/000003.dcm', 'data/1.3.6.1.4.1.14519.5.2.1.1706.4001.100169298880243060237139829068/000010.dcm', 'data/1.3.6.1.4.1.14519.5.2.1.1706.4001.100169298880243060237139829068/000001.dcm', 'data/1.3.6.1.4.1.14519.5.2.1.1706.4001.100169298880243060237139829068/000012.dcm']\n"
     ]
    }
   ],
   "source": [
    "dcm_path = 'data/1.3.6.1.4.1.14519.5.2.1.1706.4001.100169298880243060237139829068/'\n",
    "dcm_files = glob('%s*dcm' %(dcm_path))\n",
    "print(dcm_files)"
   ]
  },
  {
   "cell_type": "code",
   "execution_count": 7,
   "metadata": {},
   "outputs": [
    {
     "data": {
      "text/plain": [
       "14"
      ]
     },
     "execution_count": 7,
     "metadata": {},
     "output_type": "execute_result"
    }
   ],
   "source": [
    "len(dcm_files)"
   ]
  },
  {
   "cell_type": "code",
   "execution_count": 8,
   "metadata": {},
   "outputs": [
    {
     "name": "stdout",
     "output_type": "stream",
     "text": [
      "(128, 128) int16\n",
      "(128, 128) int16\n",
      "(128, 128) int16\n",
      "(128, 128) int16\n",
      "(128, 128) int16\n",
      "(128, 128) int16\n",
      "(128, 128) int16\n",
      "(128, 128) int16\n",
      "(128, 128) int16\n",
      "(128, 128) int16\n",
      "(128, 128) int16\n",
      "(128, 128) int16\n",
      "(128, 128) int16\n",
      "(128, 128) int16\n"
     ]
    }
   ],
   "source": [
    "for a_file in dcm_files:\n",
    "    image_data, image_header = load(a_file)\n",
    "    print(image_data.shape, image_data.dtype)"
   ]
  },
  {
   "cell_type": "markdown",
   "metadata": {},
   "source": [
    "# Save series of dicoms into a mha file"
   ]
  },
  {
   "cell_type": "code",
   "execution_count": 10,
   "metadata": {},
   "outputs": [],
   "source": [
    "from __future__ import print_function\n",
    "import SimpleITK as sitk\n",
    "import sys, os"
   ]
  },
  {
   "cell_type": "code",
   "execution_count": 11,
   "metadata": {},
   "outputs": [
    {
     "name": "stdout",
     "output_type": "stream",
     "text": [
      "Reading Dicom directory: data/1.3.6.1.4.1.14519.5.2.1.1706.4001.100169298880243060237139829068/\n"
     ]
    }
   ],
   "source": [
    "print( \"Reading Dicom directory:\", dcm_path )"
   ]
  },
  {
   "cell_type": "code",
   "execution_count": 12,
   "metadata": {
    "collapsed": true
   },
   "outputs": [],
   "source": [
    "reader = sitk.ImageSeriesReader()\n",
    "dicom_names = reader.GetGDCMSeriesFileNames(dcm_path)\n",
    "reader.SetFileNames(dicom_names)"
   ]
  },
  {
   "cell_type": "code",
   "execution_count": 13,
   "metadata": {},
   "outputs": [
    {
     "name": "stdout",
     "output_type": "stream",
     "text": [
      "Image size: 128 128 14\n"
     ]
    }
   ],
   "source": [
    "image = reader.Execute()\n",
    "size = image.GetSize()\n",
    "print( \"Image size:\", size[0], size[1], size[2] )"
   ]
  },
  {
   "cell_type": "code",
   "execution_count": 19,
   "metadata": {},
   "outputs": [
    {
     "name": "stdout",
     "output_type": "stream",
     "text": [
      "Writing image: data/1.3.6.1.4.1.14519.5.2.1.1706.4001.100169298880243060237139829068/TCGA-02-0003.mha\n"
     ]
    }
   ],
   "source": [
    "mha_name = dcm_path + \"TCGA-02-0003.mha\"\n",
    "print( \"Writing image:\", mha_name )\n",
    "sitk.WriteImage( image, mha_name)\n"
   ]
  },
  {
   "cell_type": "code",
   "execution_count": 22,
   "metadata": {
    "collapsed": true
   },
   "outputs": [],
   "source": [
    "import SimpleITK\n",
    "inputImage = SimpleITK.ReadImage('data/1.3.6.1.4.1.14519.5.2.1.1706.4001.100169298880243060237139829068/TCGA-02-0003.mha' )"
   ]
  },
  {
   "cell_type": "markdown",
   "metadata": {},
   "source": [
    "# This will give you a numpy array with z,y,x sorting."
   ]
  },
  {
   "cell_type": "code",
   "execution_count": 25,
   "metadata": {},
   "outputs": [],
   "source": [
    "import skimage.io as io\n",
    "img = io.imread('data/1.3.6.1.4.1.14519.5.2.1.1706.4001.100169298880243060237139829068/TCGA-02-0003.mha', plugin='simpleitk')"
   ]
  },
  {
   "cell_type": "code",
   "execution_count": 26,
   "metadata": {},
   "outputs": [
    {
     "data": {
      "text/plain": [
       "array([[[0, 0, 0, ..., 0, 0, 0],\n",
       "        [0, 0, 0, ..., 0, 0, 0],\n",
       "        [0, 0, 0, ..., 0, 0, 0],\n",
       "        ..., \n",
       "        [0, 0, 0, ..., 0, 0, 0],\n",
       "        [0, 0, 0, ..., 0, 0, 0],\n",
       "        [0, 0, 0, ..., 0, 0, 0]],\n",
       "\n",
       "       [[0, 0, 0, ..., 0, 0, 0],\n",
       "        [0, 0, 0, ..., 0, 0, 0],\n",
       "        [0, 0, 0, ..., 0, 0, 0],\n",
       "        ..., \n",
       "        [0, 0, 0, ..., 0, 0, 0],\n",
       "        [0, 0, 0, ..., 0, 0, 0],\n",
       "        [0, 0, 0, ..., 0, 0, 0]],\n",
       "\n",
       "       [[0, 0, 0, ..., 0, 0, 0],\n",
       "        [0, 0, 0, ..., 0, 0, 0],\n",
       "        [0, 0, 0, ..., 0, 0, 0],\n",
       "        ..., \n",
       "        [0, 0, 0, ..., 0, 0, 0],\n",
       "        [0, 0, 0, ..., 0, 0, 0],\n",
       "        [0, 0, 0, ..., 0, 0, 0]],\n",
       "\n",
       "       ..., \n",
       "       [[0, 0, 0, ..., 0, 0, 0],\n",
       "        [0, 0, 0, ..., 0, 0, 0],\n",
       "        [0, 0, 0, ..., 0, 0, 0],\n",
       "        ..., \n",
       "        [0, 0, 0, ..., 0, 0, 0],\n",
       "        [0, 0, 0, ..., 0, 0, 0],\n",
       "        [0, 0, 0, ..., 0, 0, 0]],\n",
       "\n",
       "       [[0, 0, 0, ..., 0, 0, 0],\n",
       "        [0, 0, 0, ..., 0, 0, 0],\n",
       "        [0, 0, 0, ..., 0, 0, 0],\n",
       "        ..., \n",
       "        [0, 0, 0, ..., 0, 0, 0],\n",
       "        [0, 0, 0, ..., 0, 0, 0],\n",
       "        [0, 0, 0, ..., 0, 0, 0]],\n",
       "\n",
       "       [[0, 0, 0, ..., 0, 0, 0],\n",
       "        [0, 0, 0, ..., 0, 0, 0],\n",
       "        [0, 0, 0, ..., 0, 0, 0],\n",
       "        ..., \n",
       "        [0, 0, 0, ..., 0, 0, 0],\n",
       "        [0, 0, 0, ..., 0, 0, 0],\n",
       "        [0, 0, 0, ..., 0, 0, 0]]], dtype=int16)"
      ]
     },
     "execution_count": 26,
     "metadata": {},
     "output_type": "execute_result"
    }
   ],
   "source": [
    "img"
   ]
  }
 ],
 "metadata": {
  "kernelspec": {
   "display_name": "Python 3",
   "language": "python",
   "name": "python3"
  },
  "language_info": {
   "codemirror_mode": {
    "name": "ipython",
    "version": 3
   },
   "file_extension": ".py",
   "mimetype": "text/x-python",
   "name": "python",
   "nbconvert_exporter": "python",
   "pygments_lexer": "ipython3",
   "version": "3.6.2"
  }
 },
 "nbformat": 4,
 "nbformat_minor": 2
}
